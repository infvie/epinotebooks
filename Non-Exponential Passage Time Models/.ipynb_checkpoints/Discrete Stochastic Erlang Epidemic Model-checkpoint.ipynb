{
 "cells": [
  {
   "cell_type": "code",
   "execution_count": 1,
   "metadata": {},
   "outputs": [],
   "source": [
    "using DataFrames\n",
    "using Distributions\n",
    "using Plots"
   ]
  },
  {
   "cell_type": "code",
   "execution_count": 7,
   "metadata": {},
   "outputs": [
    {
     "data": {
      "text/plain": [
       "compute_erlang_discrete_prob (generic function with 1 method)"
      ]
     },
     "execution_count": 7,
     "metadata": {},
     "output_type": "execute_result"
    }
   ],
   "source": [
    "#' @param k     The shape parameter of the Erlang distribution.\n",
    "#' @param gamma The rate parameter of the Erlang distribution.\n",
    "#' @return      A vector containing all p_i values, for i = 1 : n.\n",
    "function compute_erlang_discrete_prob(k::Int64, gamma::Float64)\n",
    "    n_bin = 0\n",
    "    factorials = zeros(Int64, k + 1)\n",
    "    factorials[1] = 1  ## factorials[1] = 0!\n",
    "    for i = 1 : k\n",
    "        factorials[i + 1] = factorials[i] * i  ## factorial[i + 1] = i!\n",
    "    end\n",
    "\n",
    "    one_sub_cummulative_probs = Float64[]\n",
    "    cummulative_prob = 0\n",
    "    while cummulative_prob <= 0.99\n",
    "        n_bin = n_bin + 1\n",
    "        push!(one_sub_cummulative_probs, 0)\n",
    "        \n",
    "        for j = 0 : (k - 1)\n",
    "            one_sub_cummulative_probs[end] =\n",
    "                one_sub_cummulative_probs[end] +\n",
    "                (\n",
    "                    exp( -n_bin * gamma )\n",
    "                    * ( (n_bin * gamma) ^ j )\n",
    "                    / factorials[j + 1]    ## factorials[j + 1] = j!\n",
    "                )\n",
    "        end\n",
    "        cummulative_prob = 1 - one_sub_cummulative_probs[end]\n",
    "    end\n",
    "    one_sub_cummulative_probs = pushfirst!(one_sub_cummulative_probs, 1)\n",
    "    \n",
    "    density_prob = one_sub_cummulative_probs[1 : end - 1] - one_sub_cummulative_probs[2 : end]\n",
    "    density_prob = density_prob / cummulative_prob\n",
    "\n",
    "    return density_prob\n",
    "end"
   ]
  },
  {
   "cell_type": "code",
   "execution_count": 8,
   "metadata": {},
   "outputs": [
    {
     "data": {
      "text/plain": [
       "seir_simulation (generic function with 1 method)"
      ]
     },
     "execution_count": 8,
     "metadata": {},
     "output_type": "execute_result"
    }
   ],
   "source": [
    "function seir_simulation( initial_state::Dict, parameters::Dict, max_time::Int64 )\n",
    "    S_1 = get(initial_state, \"S\", -1)\n",
    "    E_1 = get(initial_state, \"E\", -1)\n",
    "    I_1 = get(initial_state, \"I\", -1)\n",
    "    R_1 = get(initial_state, \"R\", -1)    \n",
    "    (S_1 != -1) || error(\"An initial value for S is required.\") \n",
    "    (E_1 != -1) || error(\"An initial value for E is required.\") \n",
    "    (I_1 != -1) || error(\"An initial value for I is required.\") \n",
    "    (R_1 != -1) || error(\"An initial value for R is required.\") \n",
    "\n",
    "    k_E     = get(parameters, \"k_E\", -1)\n",
    "    gamma_E = get(parameters, \"gamma_E\", -1.0)\n",
    "    k_I     = get(parameters, \"k_I\", -1)\n",
    "    gamma_I = get(parameters, \"gamma_I\", -1.0)\n",
    "    beta    = get(parameters, \"beta\", -1.0)\n",
    "    (k_E != -1)       || error(\"Parameter k_E must be specified.\") \n",
    "    (gamma_E != -1.0) || error(\"Parameter gamma_E must be specified.\") \n",
    "    (k_I != -1)       || error(\"Parameter k_I must be specified.\") \n",
    "    (gamma_I != -1.0) || error(\"Parameter gamma_I must be specified.\") \n",
    "    (beta != -1.0)    || error(\"Parameter beta must be specified.\")     \n",
    "    \n",
    "    population_size = S_1 + E_1 + I_1 + R_1    \n",
    "    sim_data = DataFrame( S = Int64[], E = Int64[], I = Int64[], R = Int64[] )\n",
    "    push!( sim_data, (S_1, E_1, I_1, R_1) )\n",
    "\n",
    "    \n",
    "    ## Initialise a matrix to store the states of the exposed sub-blocks over time.\n",
    "    exposed_block_adm_rates = compute_erlang_discrete_prob(k_E, gamma_E)\n",
    "    n_exposed_blocks = length(exposed_block_adm_rates)\n",
    "    exposed_blocks = zeros(Int64, max_time, n_exposed_blocks)\n",
    "    exposed_blocks[1, n_exposed_blocks] = sim_data[1, :E]\n",
    "\n",
    "    \n",
    "    ## Initialise a matrix to store the states of the infectious sub-blocks over time.\n",
    "    infectious_block_adm_rates = compute_erlang_discrete_prob(k_I, gamma_I)\n",
    "    n_infectious_blocks = length(infectious_block_adm_rates)\n",
    "    infectious_blocks = zeros(Int64, max_time, n_infectious_blocks)\n",
    "    infectious_blocks[1, n_infectious_blocks] = sim_data[1, :I]\n",
    "\n",
    "        \n",
    "    ## Run the simulation from time t = 2 to t = max_time\n",
    "    for time = 2 : max_time\n",
    "        transmission_rate = beta * sim_data[(time - 1), :I] / population_size\n",
    "        exposure_prob = 1 - exp(-transmission_rate)        \n",
    "        distribution = Binomial(sim_data[(time - 1), :S], exposure_prob)\n",
    "        new_exposed = rand(distribution)\n",
    "        new_infectious = exposed_blocks[time - 1, 1]\n",
    "        new_recovered  = infectious_blocks[time - 1, 1]\n",
    "\n",
    "        if new_exposed > 0\n",
    "            distribution =  Multinomial(new_exposed, exposed_block_adm_rates)        \n",
    "            exposed_blocks[time, :] = rand(distribution)\n",
    "        end\n",
    "        exposed_blocks[time, (1 : end - 1)] =\n",
    "        exposed_blocks[time, (1 : end - 1)] + exposed_blocks[(time - 1), (2 : end)]\n",
    "\n",
    "        if new_infectious > 0\n",
    "            distribution =  Multinomial(new_infectious, infectious_block_adm_rates)                    \n",
    "            infectious_blocks[time, :] = rand(distribution)\n",
    "        end\n",
    "        infectious_blocks[time, (1 : end - 1)] =\n",
    "        infectious_blocks[time, (1 : end - 1)] + infectious_blocks[(time - 1), (2 : end)]\n",
    "\n",
    "        push!( sim_data, ( sim_data[time - 1, :S] - new_exposed,\n",
    "                           sum(exposed_blocks[time, :]),\n",
    "                           sum(infectious_blocks[time, :]),\n",
    "                           sim_data[time - 1, :R] + new_recovered )\n",
    "        )\n",
    "    end\n",
    "    \n",
    "    sim_data[:time] = collect(1 : max_time)    \n",
    "    return sim_data\n",
    "end"
   ]
  },
  {
   "cell_type": "code",
   "execution_count": 9,
   "metadata": {},
   "outputs": [
    {
     "name": "stdout",
     "output_type": "stream",
     "text": [
      "10×5 DataFrame\n",
      "│ Row │ S     │ E     │ I     │ R     │ time  │\n",
      "│     │ \u001b[90mInt64\u001b[39m │ \u001b[90mInt64\u001b[39m │ \u001b[90mInt64\u001b[39m │ \u001b[90mInt64\u001b[39m │ \u001b[90mInt64\u001b[39m │\n",
      "├─────┼───────┼───────┼───────┼───────┼───────┤\n",
      "│ 1   │ 1000  │ 0     │ 0     │ 9000  │ 291   │\n",
      "│ 2   │ 1000  │ 0     │ 0     │ 9000  │ 292   │\n",
      "│ 3   │ 1000  │ 0     │ 0     │ 9000  │ 293   │\n",
      "│ 4   │ 1000  │ 0     │ 0     │ 9000  │ 294   │\n",
      "│ 5   │ 1000  │ 0     │ 0     │ 9000  │ 295   │\n",
      "│ 6   │ 1000  │ 0     │ 0     │ 9000  │ 296   │\n",
      "│ 7   │ 1000  │ 0     │ 0     │ 9000  │ 297   │\n",
      "│ 8   │ 1000  │ 0     │ 0     │ 9000  │ 298   │\n",
      "│ 9   │ 1000  │ 0     │ 0     │ 9000  │ 299   │\n",
      "│ 10  │ 1000  │ 0     │ 0     │ 9000  │ 300   │"
     ]
    }
   ],
   "source": [
    "sim = seir_simulation( Dict(\"S\" => 9999, \"E\" => 1, \"I\" => 0, \"R\" => 0),\n",
    "                       Dict(\"k_E\" =>  5, \"gamma_E\" => 1.0,\n",
    "                            \"k_I\" => 10, \"gamma_I\" => 1.0,\n",
    "                            \"beta\" => 0.25),\n",
    "                       300 )\n",
    "print(sim[end - 9 : end, :])"
   ]
  },
  {
   "cell_type": "code",
   "execution_count": 10,
   "metadata": {},
   "outputs": [
    {
     "data": {
      "image/png": "[encoded data removed]"
     },
     "execution_count": 10,
     "metadata": {},
     "output_type": "execute_result"
    }
   ],
   "source": [
    "gr(fmt = :png)\n",
    "plot( sim[:, :time],\n",
    "       [sim[:, :S], sim[:, :E], sim[:, :I], sim[:, :R]],\n",
    "       label = [\"Susceptible\", \"Exposed\", \"Infectious\", \"Recovered\"],\n",
    "       xlabel = \"Time\", ylabel = \"Number of Individuals\",\n",
    "       linealpha = 0.5, linewidth = 3 )"
   ]
  },
  {
   "cell_type": "code",
   "execution_count": 13,
   "metadata": {},
   "outputs": [
    {
     "name": "stdout",
     "output_type": "stream",
     "text": [
      "\n",
      "-------------------\n",
      "    Test PASSED\n",
      "-------------------\n",
      "\n"
     ]
    }
   ],
   "source": [
    "using Random\n",
    "Random.seed!(12345)\n",
    "test_sim = seir_simulation( Dict(\"S\" => 9999, \"E\" => 1, \"I\" => 0, \"R\" => 0),\n",
    "                            Dict(\"k_E\" =>  5, \"gamma_E\" => 1.0,\n",
    "                                 \"k_I\" => 10, \"gamma_I\" => 1.0,\n",
    "                                 \"beta\" => 0.25),\n",
    "                            100 )\n",
    "test_result = convert(Matrix, test_sim[end-2 : end, :])\n",
    "\n",
    "correct_result = [ 6416  1017  1298  1269   98 ;\n",
    "                   6210  1045  1379  1366   99 ;\n",
    "                   6010  1086  1442  1462  100 ]\n",
    "\n",
    "println(\"\\n-------------------\")\n",
    "if correct_result == test_result\n",
    "    println(\"    Test PASSED\")    \n",
    "else\n",
    "    println(\"    Test FAILED\")    \n",
    "end\n",
    "println(\"-------------------\\n\")"
   ]
  }
 ],
 "metadata": {
  "kernelspec": {
   "display_name": "Julia 1.0.3",
   "language": "julia",
   "name": "julia-1.0"
  },
  "language_info": {
   "file_extension": ".jl",
   "mimetype": "application/julia",
   "name": "julia",
   "version": "1.0.3"
  }
 },
 "nbformat": 4,
 "nbformat_minor": 2
}
