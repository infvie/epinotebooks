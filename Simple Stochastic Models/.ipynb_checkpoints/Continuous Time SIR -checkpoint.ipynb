{
 "cells": [
  {
   "cell_type": "code",
   "execution_count": 11,
   "metadata": {},
   "outputs": [],
   "source": [
    "using DifferentialEquations\n",
    "using Random\n",
    "using DataFrames\n",
    "using Distributions"
   ]
  },
  {
   "cell_type": "code",
   "execution_count": 12,
   "metadata": {},
   "outputs": [
    {
     "data": {
      "text/plain": [
       "sir (generic function with 1 method)"
      ]
     },
     "execution_count": 12,
     "metadata": {},
     "output_type": "execute_result"
    }
   ],
   "source": [
    "function sir(beta,gamma,N,S0,I0,R0,tf)\n",
    "    t = 0\n",
    "    S = S0\n",
    "    I = I0\n",
    "    R = R0\n",
    "    ta= Float64[]\n",
    "    Sa= Float64[]\n",
    "    Ia= Float64[]\n",
    "    Ra= Float64[]\n",
    "    while t < tf\n",
    "        push!(ta,t)\n",
    "        push!(Sa,S)\n",
    "        push!(Ia,I)\n",
    "        push!(Ra,R)\n",
    "        pf1 = beta*S*I\n",
    "        pf2 = gamma*I\n",
    "        pf = pf1+pf2\n",
    "        dt = rand(Exponential(1/pf))\n",
    "        t = t+dt\n",
    "        if t>tf\n",
    "            break\n",
    "        end\n",
    "        ru = rand()\n",
    "        if ru<(pf1/pf)\n",
    "            S=S-1\n",
    "            I=I+1\n",
    "        else\n",
    "            I=I-1\n",
    "            R=R+1\n",
    "        end\n",
    "    end\n",
    "    results = DataFrame()\n",
    "    results[:time] = ta\n",
    "    results[:S] = Sa\n",
    "    results[:I] = Ia\n",
    "    results[:R] = Ra\n",
    "    return(results)\n",
    "end\n"
   ]
  },
  {
   "cell_type": "code",
   "execution_count": 13,
   "metadata": {},
   "outputs": [],
   "source": [
    "Random.seed!(42);"
   ]
  },
  {
   "cell_type": "code",
   "execution_count": 14,
   "metadata": {},
   "outputs": [],
   "source": [
    "sir_out = sir(0.1/1000,0.05,1000,999,1,0,200);"
   ]
  },
  {
   "cell_type": "code",
   "execution_count": 15,
   "metadata": {},
   "outputs": [
    {
     "data": {
      "text/html": [
       "<table class=\"data-frame\"><thead><tr><th></th><th>time</th><th>S</th><th>I</th><th>R</th></tr><tr><th></th><th>Float64</th><th>Float64</th><th>Float64</th><th>Float64</th></tr></thead><tbody><p>6 rows × 4 columns</p><tr><th>1</th><td>0.0</td><td>999.0</td><td>1.0</td><td>0.0</td></tr><tr><th>2</th><td>5.37975</td><td>998.0</td><td>2.0</td><td>0.0</td></tr><tr><th>3</th><td>5.89318</td><td>997.0</td><td>3.0</td><td>0.0</td></tr><tr><th>4</th><td>8.47182</td><td>997.0</td><td>2.0</td><td>1.0</td></tr><tr><th>5</th><td>8.61118</td><td>996.0</td><td>3.0</td><td>1.0</td></tr><tr><th>6</th><td>16.7678</td><td>995.0</td><td>4.0</td><td>1.0</td></tr></tbody></table>"
      ],
      "text/latex": [
       "\\begin{tabular}{r|cccc}\n",
       "\t& time & S & I & R\\\\\n",
       "\t\\hline\n",
       "\t1 & 0.0 & 999.0 & 1.0 & 0.0 \\\\\n",
       "\t2 & 5.37975 & 998.0 & 2.0 & 0.0 \\\\\n",
       "\t3 & 5.89318 & 997.0 & 3.0 & 0.0 \\\\\n",
       "\t4 & 8.47182 & 997.0 & 2.0 & 1.0 \\\\\n",
       "\t5 & 8.61118 & 996.0 & 3.0 & 1.0 \\\\\n",
       "\t6 & 16.7678 & 995.0 & 4.0 & 1.0 \\\\\n",
       "\\end{tabular}\n"
      ],
      "text/plain": [
       "6×4 DataFrame\n",
       "│ Row │ time    │ S       │ I       │ R       │\n",
       "│     │ \u001b[90mFloat64\u001b[39m │ \u001b[90mFloat64\u001b[39m │ \u001b[90mFloat64\u001b[39m │ \u001b[90mFloat64\u001b[39m │\n",
       "├─────┼─────────┼─────────┼─────────┼─────────┤\n",
       "│ 1   │ 0.0     │ 999.0   │ 1.0     │ 0.0     │\n",
       "│ 2   │ 5.37975 │ 998.0   │ 2.0     │ 0.0     │\n",
       "│ 3   │ 5.89318 │ 997.0   │ 3.0     │ 0.0     │\n",
       "│ 4   │ 8.47182 │ 997.0   │ 2.0     │ 1.0     │\n",
       "│ 5   │ 8.61118 │ 996.0   │ 3.0     │ 1.0     │\n",
       "│ 6   │ 16.7678 │ 995.0   │ 4.0     │ 1.0     │"
      ]
     },
     "execution_count": 15,
     "metadata": {},
     "output_type": "execute_result"
    }
   ],
   "source": [
    "head_size = 6\n",
    "first(sir_out,head_size)"
   ]
  },
  {
   "cell_type": "code",
   "execution_count": null,
   "metadata": {},
   "outputs": [],
   "source": []
  },
  {
   "cell_type": "code",
   "execution_count": 17,
   "metadata": {},
   "outputs": [
    {
     "ename": "UndefVarError",
     "evalue": "UndefVarError: Pkg not defined",
     "output_type": "error",
     "traceback": [
      "UndefVarError: Pkg not defined",
      "",
      "Stacktrace:",
      " [1] top-level scope at In[17]:1"
     ]
    }
   ],
   "source": [
    "Pkg.add(\"StatsPlots\")"
   ]
  },
  {
   "cell_type": "code",
   "execution_count": null,
   "metadata": {},
   "outputs": [],
   "source": []
  }
 ],
 "metadata": {
  "kernelspec": {
   "display_name": "Julia 1.0.3",
   "language": "julia",
   "name": "julia-1.0"
  },
  "language_info": {
   "file_extension": ".jl",
   "mimetype": "application/julia",
   "name": "julia",
   "version": "1.0.3"
  }
 },
 "nbformat": 4,
 "nbformat_minor": 2
}
