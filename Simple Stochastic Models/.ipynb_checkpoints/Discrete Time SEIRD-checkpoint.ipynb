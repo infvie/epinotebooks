{
 "cells": [
  {
   "cell_type": "code",
   "execution_count": 1,
   "metadata": {},
   "outputs": [],
   "source": [
    "using DifferentialEquations"
   ]
  },
  {
   "cell_type": "code",
   "execution_count": 1,
   "metadata": {},
   "outputs": [
    {
     "data": {
      "text/plain": [
       "seird (generic function with 1 method)"
      ]
     },
     "execution_count": 1,
     "metadata": {},
     "output_type": "execute_result"
    }
   ],
   "source": [
    "function seird(du, u, parms, t)\n",
    "    S,E,Ir,Id,R,D = u\n",
    "    β,δ,γ,Γ,μ,ϵ,ω = parms\n",
    "    I = Ir + Id\n",
    "    N = S + E + I + R + D\n",
    "    dS = S - β*S*I/N + ω*R\n",
    "    dE = E + β*S*I/N - γ*E + ϵ\n",
    "    dIr = Ir + γ*(1-μ)E - γ*Ir + ϵ\n",
    "    dId = Id + γ*μ*E - Γ*Id + ϵ\n",
    "    dR = R + γ*Ir - ω*R\n",
    "    dD = D + Γ*Id\n",
    "    du = [dS, dE, dIr, dId, dR, dD]\n",
    "end"
   ]
  },
  {
   "cell_type": "code",
   "execution_count": null,
   "metadata": {},
   "outputs": [],
   "source": []
  }
 ],
 "metadata": {
  "kernelspec": {
   "display_name": "Julia 1.0.3",
   "language": "julia",
   "name": "julia-1.0"
  },
  "language_info": {
   "file_extension": ".jl",
   "mimetype": "application/julia",
   "name": "julia",
   "version": "1.0.3"
  }
 },
 "nbformat": 4,
 "nbformat_minor": 2
}
