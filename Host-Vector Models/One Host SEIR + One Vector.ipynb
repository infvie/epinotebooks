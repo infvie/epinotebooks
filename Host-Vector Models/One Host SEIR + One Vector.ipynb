{
 "cells": [
  {
   "cell_type": "code",
   "execution_count": 15,
   "metadata": {},
   "outputs": [
    {
     "data": {
      "text/plain": [
       "F (generic function with 1 method)"
      ]
     },
     "execution_count": 15,
     "metadata": {},
     "output_type": "execute_result"
    }
   ],
   "source": [
    "function F(du,u,p,t)\n",
    "    S_H, E_H, I_H, R_H, S_V, E_V, I_V = u\n",
    "    \n",
    "    # host dynamics\n",
    "    host_infection = (p.β*S_H*I_V)/p.N_H\n",
    "    host_mortality = p.μ_H .* u[1:4] # include S_H, so easier to remove mortality\n",
    "    host_births = sum(host_mortality)\n",
    "    host_progression = p.σ_H*E_H\n",
    "    recovery = p.λ*I_H\n",
    "    \n",
    "    du[1] = -host_infection + host_births\n",
    "    du[2] = host_infection - host_progression\n",
    "    du[3] = host_progression - recovery\n",
    "    du[4] = recovery\n",
    "    du[1:4] -= host_mortality\n",
    "    \n",
    "    # vector dynamics\n",
    "    vec_infection = (p.β*S_V*I_H)/p.N_H\n",
    "    vec_mortality = p.μ_V .* u[5:7] # include S_V, so easier to remove mortality\n",
    "    vec_births = sum(vec_mortality)\n",
    "    vec_progression = p.σ_V*E_V\n",
    "    \n",
    "    du[5] = -vec_infection + vec_births\n",
    "    du[6] = vec_infection - vec_progression\n",
    "    du[7] = vec_progression\n",
    "    du[5:7] -= vec_mortality\n",
    "    \n",
    "end"
   ]
  },
  {
   "cell_type": "code",
   "execution_count": 16,
   "metadata": {},
   "outputs": [
    {
     "name": "stdout",
     "output_type": "stream",
     "text": [
      "  1.147358 seconds (2.17 M allocations: 111.335 MiB, 5.18% gc time)\n"
     ]
    }
   ],
   "source": [
    "using DifferentialEquations\n",
    "using IterableTables, DataFrames\n",
    "\n",
    "u0 = [\n",
    "    100.0,  0.0, 1.0, 0.0,\n",
    "    10000.0, 0.0, 0.0\n",
    "]\n",
    "p = (\n",
    "  μ_H=1/365, μ_V=1/30, σ_H=1/3, σ_V=1/7, λ=1/14,\n",
    "  β=0.05, N_H = sum(u0[1:4])\n",
    ")\n",
    "tspan = (0.0, 365.0)\n",
    "prob = ODEProblem(F, u0, tspan, p)\n",
    "sol = @time solve(prob,Tsit5(),reltol=1e-8,abstol=1e-8,saveat=range(0,stop = 365,length = 365*10+1))\n",
    "\n",
    "df = DataFrame(sol')\n",
    "rename!(df,:x1 => :S_H,:x2 => :E_H, :x3 => :I_H, :x4 => :R_H,\n",
    "  :x5 => :S_V, :x6 => :E_V, :x7 => :I_V)\n",
    "df.t = collect(range(0,stop = 365,length = 365*10+1));"
   ]
  },
  {
   "cell_type": "code",
   "execution_count": 17,
   "metadata": {},
   "outputs": [
    {
     "data": {
      "text/html": [
       "<table class=\"data-frame\"><thead><tr><th></th><th>S_H</th><th>E_H</th><th>I_H</th><th>R_H</th><th>S_V</th><th>E_V</th><th>I_V</th><th>t</th></tr><tr><th></th><th>Float64</th><th>Float64</th><th>Float64</th><th>Float64</th><th>Float64</th><th>Float64</th><th>Float64</th><th>Float64</th></tr></thead><tbody><p>10 rows × 8 columns</p><tr><th>1</th><td>100.0</td><td>0.0</td><td>1.0</td><td>0.0</td><td>10000.0</td><td>0.0</td><td>0.0</td><td>0.0</td></tr><tr><th>2</th><td>100.0</td><td>5.7454e-6</td><td>0.992611</td><td>0.00711546</td><td>9999.51</td><td>0.488881</td><td>0.00350275</td><td>0.1</td></tr><tr><th>3</th><td>100.001</td><td>4.52579e-5</td><td>0.985277</td><td>0.0141764</td><td>9999.02</td><td>0.965588</td><td>0.0138791</td><td>0.2</td></tr><tr><th>4</th><td>100.001</td><td>0.000150406</td><td>0.977999</td><td>0.0211832</td><td>9998.54</td><td>1.43036</td><td>0.0309342</td><td>0.3</td></tr><tr><th>5</th><td>100.001</td><td>0.000351065</td><td>0.97078</td><td>0.0281363</td><td>9998.06</td><td>1.88344</td><td>0.0544774</td><td>0.4</td></tr><tr><th>6</th><td>100.001</td><td>0.000675207</td><td>0.963623</td><td>0.0350362</td><td>9997.59</td><td>2.32505</td><td>0.0843219</td><td>0.5</td></tr><tr><th>7</th><td>100.0</td><td>0.00114898</td><td>0.956533</td><td>0.0418834</td><td>9997.12</td><td>2.75544</td><td>0.120285</td><td>0.6</td></tr><tr><th>8</th><td>100.0</td><td>0.00179678</td><td>0.949513</td><td>0.0486782</td><td>9996.66</td><td>3.17482</td><td>0.162188</td><td>0.7</td></tr><tr><th>9</th><td>99.9994</td><td>0.00264133</td><td>0.94257</td><td>0.0554213</td><td>9996.21</td><td>3.58344</td><td>0.209855</td><td>0.8</td></tr><tr><th>10</th><td>99.9985</td><td>0.00370379</td><td>0.935709</td><td>0.0621133</td><td>9995.76</td><td>3.98151</td><td>0.263116</td><td>0.9</td></tr></tbody></table>"
      ],
      "text/latex": [
       "\\begin{tabular}{r|cccccccc}\n",
       "\t& S\\_H & E\\_H & I\\_H & R\\_H & S\\_V & E\\_V & I\\_V & t\\\\\n",
       "\t\\hline\n",
       "\t1 & 100.0 & 0.0 & 1.0 & 0.0 & 10000.0 & 0.0 & 0.0 & 0.0 \\\\\n",
       "\t2 & 100.0 & 5.7454e-6 & 0.992611 & 0.00711546 & 9999.51 & 0.488881 & 0.00350275 & 0.1 \\\\\n",
       "\t3 & 100.001 & 4.52579e-5 & 0.985277 & 0.0141764 & 9999.02 & 0.965588 & 0.0138791 & 0.2 \\\\\n",
       "\t4 & 100.001 & 0.000150406 & 0.977999 & 0.0211832 & 9998.54 & 1.43036 & 0.0309342 & 0.3 \\\\\n",
       "\t5 & 100.001 & 0.000351065 & 0.97078 & 0.0281363 & 9998.06 & 1.88344 & 0.0544774 & 0.4 \\\\\n",
       "\t6 & 100.001 & 0.000675207 & 0.963623 & 0.0350362 & 9997.59 & 2.32505 & 0.0843219 & 0.5 \\\\\n",
       "\t7 & 100.0 & 0.00114898 & 0.956533 & 0.0418834 & 9997.12 & 2.75544 & 0.120285 & 0.6 \\\\\n",
       "\t8 & 100.0 & 0.00179678 & 0.949513 & 0.0486782 & 9996.66 & 3.17482 & 0.162188 & 0.7 \\\\\n",
       "\t9 & 99.9994 & 0.00264133 & 0.94257 & 0.0554213 & 9996.21 & 3.58344 & 0.209855 & 0.8 \\\\\n",
       "\t10 & 99.9985 & 0.00370379 & 0.935709 & 0.0621133 & 9995.76 & 3.98151 & 0.263116 & 0.9 \\\\\n",
       "\\end{tabular}\n"
      ],
      "text/plain": [
       "10×8 DataFrame. Omitted printing of 2 columns\n",
       "│ Row │ S_H     │ E_H         │ I_H      │ R_H        │ S_V     │ E_V      │\n",
       "│     │ \u001b[90mFloat64\u001b[39m │ \u001b[90mFloat64\u001b[39m     │ \u001b[90mFloat64\u001b[39m  │ \u001b[90mFloat64\u001b[39m    │ \u001b[90mFloat64\u001b[39m │ \u001b[90mFloat64\u001b[39m  │\n",
       "├─────┼─────────┼─────────────┼──────────┼────────────┼─────────┼──────────┤\n",
       "│ 1   │ 100.0   │ 0.0         │ 1.0      │ 0.0        │ 10000.0 │ 0.0      │\n",
       "│ 2   │ 100.0   │ 5.7454e-6   │ 0.992611 │ 0.00711546 │ 9999.51 │ 0.488881 │\n",
       "│ 3   │ 100.001 │ 4.52579e-5  │ 0.985277 │ 0.0141764  │ 9999.02 │ 0.965588 │\n",
       "│ 4   │ 100.001 │ 0.000150406 │ 0.977999 │ 0.0211832  │ 9998.54 │ 1.43036  │\n",
       "│ 5   │ 100.001 │ 0.000351065 │ 0.97078  │ 0.0281363  │ 9998.06 │ 1.88344  │\n",
       "│ 6   │ 100.001 │ 0.000675207 │ 0.963623 │ 0.0350362  │ 9997.59 │ 2.32505  │\n",
       "│ 7   │ 100.0   │ 0.00114898  │ 0.956533 │ 0.0418834  │ 9997.12 │ 2.75544  │\n",
       "│ 8   │ 100.0   │ 0.00179678  │ 0.949513 │ 0.0486782  │ 9996.66 │ 3.17482  │\n",
       "│ 9   │ 99.9994 │ 0.00264133  │ 0.94257  │ 0.0554213  │ 9996.21 │ 3.58344  │\n",
       "│ 10  │ 99.9985 │ 0.00370379  │ 0.935709 │ 0.0621133  │ 9995.76 │ 3.98151  │"
      ]
     },
     "execution_count": 17,
     "metadata": {},
     "output_type": "execute_result"
    }
   ],
   "source": [
    "first(df,10)"
   ]
  },
  {
   "cell_type": "code",
   "execution_count": 18,
   "metadata": {},
   "outputs": [],
   "source": [
    "using StatPlots"
   ]
  },
  {
   "cell_type": "code",
   "execution_count": 20,
   "metadata": {},
   "outputs": [
    {
     "ename": "MethodError",
     "evalue": "MethodError: no method matching plot(::Array{Float64,1}, ::Array{Float64,2}; label=[\"S_H\" \"E_H\" \"I_H\" \"R_H\"])\nClosest candidates are:\n  plot(::Any, !Matched::Union{Array{Layer,1}, Function, Element, Theme, Type}...; mapping...) at /home/infvie/.julia/packages/Gadfly/09PWZ/src/Gadfly.jl:287\n  plot(::Any, !Matched::Dict, !Matched::Union{Array{Layer,1}, Function, Element, Theme, Type}...) at /home/infvie/.julia/packages/Gadfly/09PWZ/src/Gadfly.jl:321 got unsupported keyword argument \"label\"",
     "output_type": "error",
     "traceback": [
      "MethodError: no method matching plot(::Array{Float64,1}, ::Array{Float64,2}; label=[\"S_H\" \"E_H\" \"I_H\" \"R_H\"])\nClosest candidates are:\n  plot(::Any, !Matched::Union{Array{Layer,1}, Function, Element, Theme, Type}...; mapping...) at /home/infvie/.julia/packages/Gadfly/09PWZ/src/Gadfly.jl:287\n  plot(::Any, !Matched::Dict, !Matched::Union{Array{Layer,1}, Function, Element, Theme, Type}...) at /home/infvie/.julia/packages/Gadfly/09PWZ/src/Gadfly.jl:321 got unsupported keyword argument \"label\"",
      "",
      "Stacktrace:",
      " [1] #add_label#17(::Base.Iterators.Pairs{Union{},Union{},Tuple{},NamedTuple{(),Tuple{}}}, ::Function, ::Array{Any,1}, ::Function, ::Array{Float64,1}, ::Vararg{Any,N} where N) at /home/infvie/.julia/packages/StatPlots/22UPl/src/df.jl:140",
      " [2] add_label(::Array{Any,1}, ::Function, ::Array{Float64,1}, ::Vararg{Any,N} where N) at /home/infvie/.julia/packages/StatPlots/22UPl/src/df.jl:136",
      " [3] (::getfield(Main, Symbol(\"##7#8\")))(::DataFrame) at ./none:0",
      " [4] top-level scope at In[20]:1"
     ]
    }
   ],
   "source": [
    "@df df plot(:t, [:S_H :E_H :I_H :R_H])"
   ]
  },
  {
   "cell_type": "code",
   "execution_count": null,
   "metadata": {},
   "outputs": [],
   "source": []
  }
 ],
 "metadata": {
  "kernelspec": {
   "display_name": "Julia 1.0.3",
   "language": "julia",
   "name": "julia-1.0"
  },
  "language_info": {
   "file_extension": ".jl",
   "mimetype": "application/julia",
   "name": "julia",
   "version": "1.0.3"
  }
 },
 "nbformat": 4,
 "nbformat_minor": 2
}
