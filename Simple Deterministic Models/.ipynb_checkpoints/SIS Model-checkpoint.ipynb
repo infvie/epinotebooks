{
 "cells": [
  {
   "cell_type": "code",
   "execution_count": 1,
   "metadata": {},
   "outputs": [],
   "source": [
    "using DifferentialEquations"
   ]
  },
  {
   "cell_type": "code",
   "execution_count": 2,
   "metadata": {},
   "outputs": [
    {
     "data": {
      "text/plain": [
       "sis_ode (generic function with 1 method)"
      ]
     },
     "execution_count": 2,
     "metadata": {},
     "output_type": "execute_result"
    }
   ],
   "source": [
    "function sis_ode(du, u, parms, t)\n",
    "    beta = parms[1]\n",
    "    gamma = parms[2]\n",
    "    susceptible = init[1]\n",
    "    infected_ind = init[2]\n",
    "\n",
    "    \n",
    "    du[1] = -beta * susceptible * infected_ind + gamma * infected_ind\n",
    "    du[2] = beta * susceptible * infected_ind - parms[2] * init[2]\n",
    "\n",
    "end"
   ]
  },
  {
   "cell_type": "code",
   "execution_count": 3,
   "metadata": {},
   "outputs": [
    {
     "data": {
      "text/plain": [
       "(0.0, 200.0)"
      ]
     },
     "execution_count": 3,
     "metadata": {},
     "output_type": "execute_result"
    }
   ],
   "source": [
    "parms = [0.1,0.05]\n",
    "init = [0.99,0.01,0.0]\n",
    "tspan = (0.0,200.0)"
   ]
  },
  {
   "cell_type": "code",
   "execution_count": 6,
   "metadata": {},
   "outputs": [
    {
     "data": {
      "text/plain": [
       "\u001b[36mODEProblem\u001b[0m with uType \u001b[36mArray{Float64,1}\u001b[0m and tType \u001b[36mFloat64\u001b[0m. In-place: \u001b[36mtrue\u001b[0m\n",
       "timespan: (0.0, 200.0)\n",
       "u0: [0.99, 0.01, 0.0]"
      ]
     },
     "execution_count": 6,
     "metadata": {},
     "output_type": "execute_result"
    }
   ],
   "source": [
    "sis_prob = ODEProblem(sis_ode, init, tspan,parms)"
   ]
  },
  {
   "cell_type": "code",
   "execution_count": 7,
   "metadata": {},
   "outputs": [],
   "source": [
    "sis_sol = solve(sis_prob);"
   ]
  },
  {
   "cell_type": "code",
   "execution_count": 9,
   "metadata": {},
   "outputs": [
    {
     "ename": "ArgumentError",
     "evalue": "ArgumentError: Package PlotlyJS not found in current path:\n- Run `import Pkg; Pkg.add(\"PlotlyJS\")` to install the PlotlyJS package.\n",
     "output_type": "error",
     "traceback": [
      "ArgumentError: Package PlotlyJS not found in current path:\n- Run `import Pkg; Pkg.add(\"PlotlyJS\")` to install the PlotlyJS package.\n",
      "",
      "Stacktrace:",
      " [1] require(::Module, ::Symbol) at ./loading.jl:823",
      " [2] top-level scope at /home/infvie/.julia/packages/Plots/qh1wV/src/backends.jl:504",
      " [3] eval at ./boot.jl:319 [inlined]",
      " [4] _initialize_backend(::Plots.PlotlyJSBackend) at /home/infvie/.julia/packages/Plots/qh1wV/src/backends.jl:503",
      " [5] backend(::Plots.PlotlyJSBackend) at /home/infvie/.julia/packages/Plots/qh1wV/src/backends.jl:196",
      " [6] backend(::Symbol) at /home/infvie/.julia/packages/Plots/qh1wV/src/backends.jl:209",
      " [7] plotlyjs() at /home/infvie/.julia/packages/Plots/qh1wV/src/backends.jl:29",
      " [8] top-level scope at In[9]:3"
     ]
    }
   ],
   "source": [
    "#Visualization\n",
    "using Plots\n",
    "plotlyjs()\n",
    "plot(sis_sol,xlabel=\"Time\",ylabel=\"Number\")"
   ]
  },
  {
   "cell_type": "code",
   "execution_count": null,
   "metadata": {},
   "outputs": [],
   "source": []
  }
 ],
 "metadata": {
  "kernelspec": {
   "display_name": "Julia 1.0.3",
   "language": "julia",
   "name": "julia-1.0"
  },
  "language_info": {
   "file_extension": ".jl",
   "mimetype": "application/julia",
   "name": "julia",
   "version": "1.0.3"
  }
 },
 "nbformat": 4,
 "nbformat_minor": 2
}
